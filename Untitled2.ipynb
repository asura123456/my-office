{
 "cells": [
  {
   "cell_type": "code",
   "execution_count": null,
   "metadata": {},
   "outputs": [],
   "source": [
    "import tensorflow as tf\n",
    "import numpy as np\n",
    "import matplotlib.pyplot as plt\n",
    "%matplotlib inline\n",
    "a=tf.random_normal([2,20])\n",
    "sess=tf.Session()\n",
    "out=sess.run(a)\n",
    "x,y=out\n",
    "plt.scatter(x,y)\n",
    "plt.show()"
   ]
  },
  {
   "cell_type": "code",
   "execution_count": 6,
   "metadata": {},
   "outputs": [],
   "source": [
    "import tensorflow as tf\n",
    "with tf.name_scope('input'):\n",
    "    a=tf.constant(5)\n",
    "    b=tf.constant(6)\n",
    "    c=tf.constant(4)\n",
    "\n",
    "with tf.name_scope('op'):\n",
    "    add=tf.add(b,c)\n",
    "    mul=tf.multiply(a,add)\n",
    "with tf.Session() as sess:\n",
    "    result=sess.run([add,mul])\n",
    "    writer = tf.summary.FileWriter('./log_t', sess.graph)"
   ]
  },
  {
   "cell_type": "code",
   "execution_count": null,
   "metadata": {},
   "outputs": [],
   "source": []
  }
 ],
 "metadata": {
  "kernelspec": {
   "display_name": "Python 3",
   "language": "python",
   "name": "python3"
  },
  "language_info": {
   "codemirror_mode": {
    "name": "ipython",
    "version": 3
   },
   "file_extension": ".py",
   "mimetype": "text/x-python",
   "name": "python",
   "nbconvert_exporter": "python",
   "pygments_lexer": "ipython3",
   "version": "3.7.3"
  }
 },
 "nbformat": 4,
 "nbformat_minor": 2
}
